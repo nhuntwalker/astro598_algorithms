{
 "cells": [
  {
   "cell_type": "markdown",
   "metadata": {},
   "source": [
    "#Astronomy 598: Algorithms for Scientific Computing\n",
    "<strong>Winter 2016</strong><br/>\n",
    "<strong>Prof: Pramod Gupta</strong><br/>\n",
    "<strong>Nicholas Hunt-Walker</strong><br/>\n",
    "<strong>Directory</strong>\n",
    "- <a href=\"#Lecture-1---Jan-8,-2016\">Lecture 1</a>"
   ]
  },
  {
   "cell_type": "markdown",
   "metadata": {},
   "source": [
    "##Lecture 1 - Jan 8, 2016\n"
   ]
  },
  {
   "cell_type": "markdown",
   "metadata": {},
   "source": [
    "###Hyak\n",
    "- http://www.hyak.washington.edu/\n",
    "- [Hyak users wiki](https://sig.washington.edu/itsigs/WIKI_for_Hyak_users)\n",
    "\n",
    "####Useful Hyak commands\n",
    "- To get an interactive session: `qsub -I`\n",
    "- Available software: `module avail`\n",
    "- To use alternate software: `module load <software name>`; to go back to default settings, type `module unload <software name>`\n",
    "- To show loaded software: `module list`\n",
    "- Archive in /lolo/archive/hyak/`<group name>`\n",
    "\n",
    "5 Gigs in the home directory. Store stuff in `/gscratch/stf/<my_user_name>`\n",
    "\n",
    "Remember to \"tar\" your files, and to set up a Hyak account"
   ]
  },
  {
   "cell_type": "markdown",
   "metadata": {},
   "source": [
    "### And now the code"
   ]
  },
  {
   "cell_type": "code",
   "execution_count": 7,
   "metadata": {
    "collapsed": true
   },
   "outputs": [],
   "source": [
    "## file mymath.py\n",
    "class Complex(object):\n",
    "    \"\"\"A class for initializing a complex number\"\"\"\n",
    "    \n",
    "    def __init__(self, real = 0.0, imag = 0.0):\n",
    "        self.real = real\n",
    "        self.imag = imag\n",
    "        \n",
    "    def conjugate(self):\n",
    "        \"\"\"\n",
    "        Negates the imaginary portion of the complex number\n",
    "        \"\"\"\n",
    "        self.imag = -self.imag\n",
    "    \n",
    "    @staticmethod #doesn't need a reference to \"self\"\n",
    "    def add(x, y):\n",
    "        z = Complex(x.real + y.real, x.imag + y.imag)\n",
    "        return z"
   ]
  },
  {
   "cell_type": "markdown",
   "metadata": {},
   "source": [
    "`@` is a <strong>decorator</strong>. Here, we're saying that the function that follows `@staticmethod` belongs to the Complex class but doesn't inherit anything from it. One reason for creating a static method here is just to keep all the relevant activities together, even though \"add\" could very well just be a standalone function."
   ]
  },
  {
   "cell_type": "code",
   "execution_count": 13,
   "metadata": {
    "collapsed": false
   },
   "outputs": [
    {
     "name": "stdout",
     "output_type": "stream",
     "text": [
      "4.0 6.0\n"
     ]
    }
   ],
   "source": [
    "#myprogram.py\n",
    "a = Complex(1.0, 2.0)\n",
    "b = Complex(3.0, 4.0)\n",
    "c = Complex.add(a, b)\n",
    "print c.real, c.imag"
   ]
  },
  {
   "cell_type": "markdown",
   "metadata": {},
   "source": [
    "### For later...\n",
    "- Read this article [about python functions and decorators](http://simeonfranklin.com/blog/2012/jul/1/python-decorators-in-12-steps/)\n",
    "- Also read this one, again [about decorators](http://www.artima.com/weblogs/viewpost.jsp?thread=240808)"
   ]
  },
  {
   "cell_type": "code",
   "execution_count": null,
   "metadata": {
    "collapsed": true
   },
   "outputs": [],
   "source": []
  }
 ],
 "metadata": {
  "kernelspec": {
   "display_name": "Python 2",
   "language": "python",
   "name": "python2"
  },
  "language_info": {
   "codemirror_mode": {
    "name": "ipython",
    "version": 2
   },
   "file_extension": ".py",
   "mimetype": "text/x-python",
   "name": "python",
   "nbconvert_exporter": "python",
   "pygments_lexer": "ipython2",
   "version": "2.7.10"
  }
 },
 "nbformat": 4,
 "nbformat_minor": 0
}
